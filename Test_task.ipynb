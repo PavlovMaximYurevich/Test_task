{
 "cells": [
  {
   "cell_type": "markdown",
   "id": "f8885a4f-8874-468a-9224-78a1db629ce0",
   "metadata": {},
   "source": [
    "Города A, B, C вместе с соединяющими их прямыми дорогами образуют треугольник.\r\n",
    "Известно, что прямой путь из А в B на 200 км короче, чем объезд через C, а прямой\r\n",
    "путь из A в C на 300 км короче, чем объезд через B. Найдите расстояние между\r\n",
    "городами B и С"
   ]
  },
  {
   "cell_type": "markdown",
   "id": "d7052917-6463-4088-abd8-b2d3941c7b9e",
   "metadata": {},
   "source": [
    "### Решение:"
   ]
  },
  {
   "cell_type": "markdown",
   "id": "df781cf4-b427-4825-8220-ec28d77f828c",
   "metadata": {},
   "source": [
    "AB = AC + BC - 200\n",
    "\n",
    "AC = AB + BC - 300\n",
    "\n",
    "*Приведём буквенную часть отдельно, цифры - отдельно*\n",
    "\n",
    "AB - AC - BC = -200\n",
    "\n",
    "AC - AB - BC = -300\n",
    "\n",
    "AB - AC - BC + 200 = AC - AB - BC + 300\n",
    "\n",
    "*Здесь BC при переносе сокращается*\n",
    "\n",
    "2AB -2AC = 100\n",
    "\n",
    "*Зная, что AC = AB + BC - 300, подставим это выражение в формулу*\n",
    "\n",
    "2AB - 2(AB + BC - 300) = 100\n",
    "\n",
    "-2BC + 600 = 100\n",
    "\n",
    "-2BC = -500\n",
    "\n",
    "BC = 250\n",
    "\n",
    "**Ответ: Расстояние между пунктами B и С составляет 250**"
   ]
  },
  {
   "cell_type": "markdown",
   "id": "3ab07210-3e8c-4fca-af6d-73eb337621c7",
   "metadata": {},
   "source": [
    "Компания ПЭК тестирует доставку последней мили с помощью автономных\n",
    "роботов-доставщиков. На сортировочном центре в черте города роботу загружают\n",
    "посылку (помещается только одна), далее робот отправляется по адресу, где его\n",
    "встречает получатель и забирает посылку. Для доставки следующей посылки робот\n",
    "возвращается на сортировочный центр.\n",
    "Сортировочный центр обслуживает район города, очерченный окружностью радиуса R.\n",
    "Для простоты расчетов будем считать, что клиенты по этой площади распределены\n",
    "равномерно, а робот двигается к клиенту вдоль радиуса. Скорость движения робота\n",
    "постоянна = v. Временем, необходимым на загрузку и разгрузку посылки, можно\n",
    "пренебречь.\n",
    "Как связано количество посылок, которое успеет доставить робот за день и\n",
    "предельная дальность доставки R?\n",
    "\n",
    "Сделайте оценку среднего количества доставок за день с указанием всех значимых констант. Приложите не только ответ, но и ход решения."
   ]
  },
  {
   "cell_type": "markdown",
   "id": "d36cdabe-28b5-4af5-bd17-455f1d50585b",
   "metadata": {},
   "source": [
    "### Решение:"
   ]
  },
  {
   "cell_type": "markdown",
   "id": "3370746a-93c0-4490-a329-b9374bb5dfc5",
   "metadata": {},
   "source": [
    "Нужно выделить, что здесь является доставкой. Будем считать если робот съездил на адрес и вернулся на базу, соответственно преодолел расстояние, равное или меньше 2R (не все клиенты живут на границе радиуса, так как распределены равномерно). Значит минимальное количество заказов за единицу времени можно рассчитать как **min_order = t / (2R / v)**, где t - количество времени, которое работает робот в день. Если мы знаем минимальное расстояние до клиента (min_distance), тогда формула расчёта максимального количества заказов будет **max_order = t / (2min_distance / v). Если распределение нормальное, то в среднем робот потратит (min_order + max_order) / 2"
   ]
  },
  {
   "cell_type": "markdown",
   "id": "f4eefd76-1527-4dce-b370-7216c80ff4fd",
   "metadata": {},
   "source": [
    "### Более подробное решение:"
   ]
  },
  {
   "cell_type": "code",
   "execution_count": 1,
   "id": "72c35c86-4f82-4ff3-9850-2c5163d7c2c5",
   "metadata": {},
   "outputs": [],
   "source": [
    "import pandas as pd\n",
    "import numpy as np\n",
    "from random import randint\n",
    "\n",
    "# Создадим таблицу с примерными данными\n",
    "# Допустим, робот ездит со скоростью 500метров/мин\n",
    "# Сделаем таблицу с выборкой 1000\n",
    "\n",
    "v = 500\n",
    "\n",
    "R = list(np.random.randint(1,1001, size=1000))\n",
    "\n",
    "t = 600 #Допустим робот работает 10 часов в день, 10ч*60м = 600мин/в день - рабочее время робота"
   ]
  },
  {
   "cell_type": "markdown",
   "id": "2a2b1765-8cab-423b-ac33-bd6282f51c79",
   "metadata": {},
   "source": [
    "Создадим таблицу со скоростью и расстоянием\n"
   ]
  },
  {
   "cell_type": "code",
   "execution_count": 2,
   "id": "46a92d9b-9f9c-4463-b3bb-6911d0ef26dc",
   "metadata": {},
   "outputs": [],
   "source": [
    "df = pd.DataFrame({'speed': [v for i in range(1,1001)], 'distance': R, 'time': [t for i in range(1, 1001)]})\n"
   ]
  },
  {
   "cell_type": "markdown",
   "id": "e2a41b30-8026-4520-9cc5-98bc44a9de54",
   "metadata": {},
   "source": [
    "На основании созданной таблицы создадим количество заказов в день:"
   ]
  },
  {
   "cell_type": "code",
   "execution_count": 3,
   "id": "c69bc105-4405-458e-b058-455d4f6f1ef4",
   "metadata": {},
   "outputs": [],
   "source": [
    "df['orders'] = df.time / (2*df.distance / df.speed)"
   ]
  },
  {
   "cell_type": "code",
   "execution_count": 4,
   "id": "24bba63e-841a-4af9-8944-30e64335c907",
   "metadata": {},
   "outputs": [
    {
     "data": {
      "text/html": [
       "<div>\n",
       "<style scoped>\n",
       "    .dataframe tbody tr th:only-of-type {\n",
       "        vertical-align: middle;\n",
       "    }\n",
       "\n",
       "    .dataframe tbody tr th {\n",
       "        vertical-align: top;\n",
       "    }\n",
       "\n",
       "    .dataframe thead th {\n",
       "        text-align: right;\n",
       "    }\n",
       "</style>\n",
       "<table border=\"1\" class=\"dataframe\">\n",
       "  <thead>\n",
       "    <tr style=\"text-align: right;\">\n",
       "      <th></th>\n",
       "      <th>speed</th>\n",
       "      <th>distance</th>\n",
       "      <th>time</th>\n",
       "      <th>orders</th>\n",
       "    </tr>\n",
       "  </thead>\n",
       "  <tbody>\n",
       "    <tr>\n",
       "      <th>0</th>\n",
       "      <td>500</td>\n",
       "      <td>209</td>\n",
       "      <td>600</td>\n",
       "      <td>717.703349</td>\n",
       "    </tr>\n",
       "    <tr>\n",
       "      <th>1</th>\n",
       "      <td>500</td>\n",
       "      <td>463</td>\n",
       "      <td>600</td>\n",
       "      <td>323.974082</td>\n",
       "    </tr>\n",
       "    <tr>\n",
       "      <th>2</th>\n",
       "      <td>500</td>\n",
       "      <td>867</td>\n",
       "      <td>600</td>\n",
       "      <td>173.010381</td>\n",
       "    </tr>\n",
       "    <tr>\n",
       "      <th>3</th>\n",
       "      <td>500</td>\n",
       "      <td>610</td>\n",
       "      <td>600</td>\n",
       "      <td>245.901639</td>\n",
       "    </tr>\n",
       "    <tr>\n",
       "      <th>4</th>\n",
       "      <td>500</td>\n",
       "      <td>602</td>\n",
       "      <td>600</td>\n",
       "      <td>249.169435</td>\n",
       "    </tr>\n",
       "    <tr>\n",
       "      <th>...</th>\n",
       "      <td>...</td>\n",
       "      <td>...</td>\n",
       "      <td>...</td>\n",
       "      <td>...</td>\n",
       "    </tr>\n",
       "    <tr>\n",
       "      <th>995</th>\n",
       "      <td>500</td>\n",
       "      <td>486</td>\n",
       "      <td>600</td>\n",
       "      <td>308.641975</td>\n",
       "    </tr>\n",
       "    <tr>\n",
       "      <th>996</th>\n",
       "      <td>500</td>\n",
       "      <td>505</td>\n",
       "      <td>600</td>\n",
       "      <td>297.029703</td>\n",
       "    </tr>\n",
       "    <tr>\n",
       "      <th>997</th>\n",
       "      <td>500</td>\n",
       "      <td>233</td>\n",
       "      <td>600</td>\n",
       "      <td>643.776824</td>\n",
       "    </tr>\n",
       "    <tr>\n",
       "      <th>998</th>\n",
       "      <td>500</td>\n",
       "      <td>664</td>\n",
       "      <td>600</td>\n",
       "      <td>225.903614</td>\n",
       "    </tr>\n",
       "    <tr>\n",
       "      <th>999</th>\n",
       "      <td>500</td>\n",
       "      <td>826</td>\n",
       "      <td>600</td>\n",
       "      <td>181.598063</td>\n",
       "    </tr>\n",
       "  </tbody>\n",
       "</table>\n",
       "<p>1000 rows × 4 columns</p>\n",
       "</div>"
      ],
      "text/plain": [
       "     speed  distance  time      orders\n",
       "0      500       209   600  717.703349\n",
       "1      500       463   600  323.974082\n",
       "2      500       867   600  173.010381\n",
       "3      500       610   600  245.901639\n",
       "4      500       602   600  249.169435\n",
       "..     ...       ...   ...         ...\n",
       "995    500       486   600  308.641975\n",
       "996    500       505   600  297.029703\n",
       "997    500       233   600  643.776824\n",
       "998    500       664   600  225.903614\n",
       "999    500       826   600  181.598063\n",
       "\n",
       "[1000 rows x 4 columns]"
      ]
     },
     "execution_count": 4,
     "metadata": {},
     "output_type": "execute_result"
    }
   ],
   "source": [
    "df"
   ]
  },
  {
   "cell_type": "markdown",
   "id": "e7da8e89-fc60-4158-97b4-f0689242c2b7",
   "metadata": {},
   "source": [
    "увеличим расстояние вдвое, умножив столбец distance на 2, для проверки результатов"
   ]
  },
  {
   "cell_type": "code",
   "execution_count": 5,
   "id": "df0b7b52-ea4a-4bbc-be87-d3c3b3f5f081",
   "metadata": {},
   "outputs": [],
   "source": [
    "df['more_distance'] = df.distance * 2"
   ]
  },
  {
   "cell_type": "code",
   "execution_count": 6,
   "id": "5b29860f-88c8-428b-8fd2-4de88d4f33c2",
   "metadata": {},
   "outputs": [],
   "source": [
    "df['orders2'] = df.time / (2*df.more_distance / df.speed)"
   ]
  },
  {
   "cell_type": "code",
   "execution_count": 7,
   "id": "805df9d4-e3e8-4502-831e-5ab02ecc6631",
   "metadata": {},
   "outputs": [
    {
     "data": {
      "text/plain": [
       "1401.0070466420684"
      ]
     },
     "execution_count": 7,
     "metadata": {},
     "output_type": "execute_result"
    }
   ],
   "source": [
    "df.orders.mean()\n"
   ]
  },
  {
   "cell_type": "code",
   "execution_count": 8,
   "id": "6bbf19b1-81dd-4bed-bbcf-5b4b67b0614f",
   "metadata": {},
   "outputs": [
    {
     "data": {
      "text/plain": [
       "700.5035233210342"
      ]
     },
     "execution_count": 8,
     "metadata": {},
     "output_type": "execute_result"
    }
   ],
   "source": [
    "df.orders2.mean()"
   ]
  },
  {
   "cell_type": "code",
   "execution_count": 9,
   "id": "22b65b72-8d15-450a-a1fa-fea810177332",
   "metadata": {},
   "outputs": [
    {
     "data": {
      "text/plain": [
       "2.0"
      ]
     },
     "execution_count": 9,
     "metadata": {},
     "output_type": "execute_result"
    }
   ],
   "source": [
    "df.orders.mean() / df.orders2.mean()"
   ]
  },
  {
   "cell_type": "markdown",
   "id": "4938c532-4af9-482b-a71f-9decb1f0c9aa",
   "metadata": {},
   "source": [
    "**Делаем вывод, что при увеличении расстояния уменьшается количество заказов, то есть связано напрямую**"
   ]
  },
  {
   "cell_type": "code",
   "execution_count": null,
   "id": "27e8a9a9-7b2d-4ed8-99bd-e7d953e2c150",
   "metadata": {},
   "outputs": [],
   "source": []
  },
  {
   "cell_type": "code",
   "execution_count": null,
   "id": "5235d1b4-fa40-4f8c-9e99-267336cc52cc",
   "metadata": {},
   "outputs": [],
   "source": []
  }
 ],
 "metadata": {
  "kernelspec": {
   "display_name": "Python 3 (ipykernel)",
   "language": "python",
   "name": "python3"
  },
  "language_info": {
   "codemirror_mode": {
    "name": "ipython",
    "version": 3
   },
   "file_extension": ".py",
   "mimetype": "text/x-python",
   "name": "python",
   "nbconvert_exporter": "python",
   "pygments_lexer": "ipython3",
   "version": "3.11.7"
  }
 },
 "nbformat": 4,
 "nbformat_minor": 5
}
